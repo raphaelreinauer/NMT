{
  "nbformat": 4,
  "nbformat_minor": 0,
  "metadata": {
    "colab": {
      "name": "Neural Machine Translation.ipynb",
      "provenance": [],
      "collapsed_sections": [],
      "authorship_tag": "ABX9TyNSRvyryPo6yc9Wt41qROfv",
      "include_colab_link": true
    },
    "kernelspec": {
      "name": "python3",
      "display_name": "Python 3"
    }
  },
  "cells": [
    {
      "cell_type": "markdown",
      "metadata": {
        "id": "view-in-github",
        "colab_type": "text"
      },
      "source": [
        "<a href=\"https://colab.research.google.com/github/raphaelreinauer/NMT/blob/master/Neural_Machine_Translation.ipynb\" target=\"_parent\"><img src=\"https://colab.research.google.com/assets/colab-badge.svg\" alt=\"Open In Colab\"/></a>"
      ]
    },
    {
      "cell_type": "markdown",
      "metadata": {
        "id": "5suO0eYeCB75",
        "colab_type": "text"
      },
      "source": [
        "**Implementing a Neural Machine Translation Model**\n",
        "\n",
        "We will use the encoder/decoder architecture. With GRU layers for both encoder and decoder as well as a Dense layer, a RepeatVector layer, and a TimeDistributed layer.\n",
        "\n",
        "Compilation Time: 6 days on 96 GPUs"
      ]
    },
    {
      "cell_type": "code",
      "metadata": {
        "id": "J5LdsvN7CmSl",
        "colab_type": "code",
        "colab": {}
      },
      "source": [
        "import tensorflow as tf\n",
        "from tensorflow.keras.models import Model\n",
        "from tensorflow.keras.layers import GRU, Dense, TimeDistributed, RepeatVector, Input\n",
        "\n",
        "from tensorflow.keras.preprocessing.text import Tokenizer"
      ],
      "execution_count": 0,
      "outputs": []
    },
    {
      "cell_type": "markdown",
      "metadata": {
        "id": "_BdyT_BwGiXx",
        "colab_type": "text"
      },
      "source": [
        "**Preprocessing**\n",
        "\n",
        "\n",
        "en_text: english text\n",
        "\n",
        "fr_text: french translation of english text"
      ]
    },
    {
      "cell_type": "code",
      "metadata": {
        "id": "REY4IAo7GvBw",
        "colab_type": "code",
        "colab": {}
      },
      "source": [
        "# load files\n",
        "en_text = tf.keras.utils.get_file(fname='vocab_en.txt', origin='https://assets.datacamp.com/production/repositories/4609/datasets/3459f954752fb2fce7c0b29e25f067e9784b69fb/vocab_en.txt')\n",
        "fr_text = tf.keras.utils.get_file(fname='vocab_fr.txt', origin='https://assets.datacamp.com/production/repositories/4609/datasets/644e461abb0910edb038e8b2c4ce7071b5aeca12/vocab_fr.txt')\n",
        "\n",
        "en_len = 100\n",
        "fr_len = 100\n",
        "en_vocab = 50000\n",
        "fr_vocab = 50000\n",
        "\n",
        "# english tokenizer\n",
        "en_tok = Tokenizer(num_words=50) #only consider num_words most comman words the other words will be considered as out-of-vocabulary (OOV)\n",
        "\n",
        "en_tok.fit_on_texts(en_text)\n",
        "\n",
        "# french tokenizer\n",
        "\n",
        "fr_tok = Tokenizer()\n",
        "\n",
        "fr_tok.fit_on_texts(fr_text)\n",
        "\n",
        "'''\n",
        "Tokenizer class as functions:\n",
        "index_word\n",
        "word_index\n",
        "texts_to_sequences: sentence is converted to a list of IDs\n",
        "'''\n",
        "\n",
        "# Padding: make all sentences to be of the same length\n",
        "\n",
        "from tensorflow.keras.preprocessing.sequence import pad_sequences\n",
        "\n",
        "\n",
        "def sents2seqs(input_type, sentences, onehot=False, pad_type='post', reverse=False):\n",
        "    '''\n",
        "    Converts the sentences to a list of sequence of IDs,\n",
        "    Pad the sentences so that they have equal length and,\n",
        "    Optionally convert the IDs to onehot vectors.\n",
        "    '''\n",
        "    encoded_text = en_tok.texts_to_sequences(sentences)\n",
        "    preproc_text = pad_sequences(encoded_text, padding=pad_type, truncating='post', maxlen=en_len)\n",
        "    if reverse:\n",
        "      # Reverse the text using numpy axis reversing\n",
        "      preproc_text = preproc_text[:, ::-1]\n",
        "    if onehot:\n",
        "        preproc_text = to_categorical(preproc_text, num_classes=en_vocab)\n",
        "    return preproc_text\n"
      ],
      "execution_count": 0,
      "outputs": []
    },
    {
      "cell_type": "markdown",
      "metadata": {
        "id": "T1aIun5fL4oN",
        "colab_type": "text"
      },
      "source": [
        "**Define the Model**"
      ]
    },
    {
      "cell_type": "code",
      "metadata": {
        "id": "v_Cy-xfvCtaC",
        "colab_type": "code",
        "colab": {
          "base_uri": "https://localhost:8080/",
          "height": 333
        },
        "outputId": "c450f13c-f74f-443e-e7de-21a7e7ed51f2"
      },
      "source": [
        "'''\n",
        "# Constants\n",
        "fr_vocab: size of the french vocabulary\n",
        "en_vocab: size of the english vocabulary\n",
        "hsize: size of the hidden state\n",
        "\n",
        "# Different layers\n",
        "en_inputs:encoder input layer\n",
        "en_out and en_state: encoder GRU output\n",
        "de_out decoder: GRU output\n",
        "de_pred decoder: prediction\n",
        "\n",
        "'''\n",
        "\n",
        "hsize = 50\n",
        "\n",
        "\n",
        "# Define the encoder\n",
        "en_inputs = Input(shape=(en_len, en_vocab))\n",
        "en_gru = GRU(hsize, return_state=True)\n",
        "en_out, en_state = en_gru(en_inputs)\n",
        "\n",
        "# Define the encoder model\n",
        "#encoder = Model(inputs=en_inputs, outputs=en_state)\n",
        "\n",
        "# Define the decoder\n",
        "de_inputs = RepeatVector(fr_len)(en_state)\n",
        "de_gru = GRU(hsize, return_sequences=True)\n",
        "de_out = de_gru(de_inputs, initial_state=en_state)\n",
        "\n",
        "# prediction layer\n",
        "de_dense = Dense(fr_vocab, activation='softmax')\n",
        "de_dense_time = TimeDistributed(de_dense)\n",
        "\n",
        "de_pred = de_dense_time(de_out)\n",
        "\n",
        "# Define the complete model\n",
        "nmt = Model(inputs=en_inputs, outputs=de_pred)\n",
        "\n",
        "# Compile the model\n",
        "nmt.compile(optimizer='adam', loss='categorical_crossentropy', metrics=['acc'])\n",
        "\n",
        "nmt.summary()"
      ],
      "execution_count": 24,
      "outputs": [
        {
          "output_type": "stream",
          "text": [
            "Model: \"model\"\n",
            "__________________________________________________________________________________________________\n",
            "Layer (type)                    Output Shape         Param #     Connected to                     \n",
            "==================================================================================================\n",
            "input_7 (InputLayer)            [(None, 100, 50000)] 0                                            \n",
            "__________________________________________________________________________________________________\n",
            "gru_9 (GRU)                     [(None, 50), (None,  7507800     input_7[0][0]                    \n",
            "__________________________________________________________________________________________________\n",
            "repeat_vector_4 (RepeatVector)  (None, 100, 50)      0           gru_9[0][1]                      \n",
            "__________________________________________________________________________________________________\n",
            "gru_10 (GRU)                    (None, 100, 50)      15300       repeat_vector_4[0][0]            \n",
            "                                                                 gru_9[0][1]                      \n",
            "__________________________________________________________________________________________________\n",
            "time_distributed_4 (TimeDistrib (None, 100, 50000)   2550000     gru_10[0][0]                     \n",
            "==================================================================================================\n",
            "Total params: 10,073,100\n",
            "Trainable params: 10,073,100\n",
            "Non-trainable params: 0\n",
            "__________________________________________________________________________________________________\n"
          ],
          "name": "stdout"
        }
      ]
    },
    {
      "cell_type": "code",
      "metadata": {
        "id": "BmvWv49qVy8t",
        "colab_type": "code",
        "colab": {}
      },
      "source": [
        ""
      ],
      "execution_count": 0,
      "outputs": []
    }
  ]
}