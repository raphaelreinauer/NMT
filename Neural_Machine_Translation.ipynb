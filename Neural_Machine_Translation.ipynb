{
  "nbformat": 4,
  "nbformat_minor": 0,
  "metadata": {
    "colab": {
      "name": "Neural Machine Translation.ipynb",
      "provenance": [],
      "authorship_tag": "ABX9TyMKtUgm1nC0FkwnYw9aNXN/",
      "include_colab_link": true
    },
    "kernelspec": {
      "name": "python3",
      "display_name": "Python 3"
    }
  },
  "cells": [
    {
      "cell_type": "markdown",
      "metadata": {
        "id": "view-in-github",
        "colab_type": "text"
      },
      "source": [
        "<a href=\"https://colab.research.google.com/github/raphaelreinauer/NMT/blob/master/Neural_Machine_Translation.ipynb\" target=\"_parent\"><img src=\"https://colab.research.google.com/assets/colab-badge.svg\" alt=\"Open In Colab\"/></a>"
      ]
    },
    {
      "cell_type": "markdown",
      "metadata": {
        "id": "5suO0eYeCB75",
        "colab_type": "text"
      },
      "source": [
        "**Implementing a Neural Machine Translation Model**\n",
        "\n",
        "We will use the encoder/decoder architecture. With GRU layers for both encoder and decoder as well as a Dense layer, a RepeatVector layer, and a TimeDistributed layer.\n",
        "\n",
        "Compilation Time: 6 days on 96 GPUs"
      ]
    },
    {
      "cell_type": "code",
      "metadata": {
        "id": "J5LdsvN7CmSl",
        "colab_type": "code",
        "colab": {}
      },
      "source": [
        "import tensorflow as tf\n",
        "from tensorflow.keras.models import Model\n",
        "from tensorflow.keras.layers import GRU, Dense, TimeDistributed, RepeatVector\n",
        "\n",
        "from tensorflow.keras.preprocessing.text import Tokenizer"
      ],
      "execution_count": 0,
      "outputs": []
    },
    {
      "cell_type": "markdown",
      "metadata": {
        "id": "_BdyT_BwGiXx",
        "colab_type": "text"
      },
      "source": [
        "Preprocessing\n",
        "\n",
        "\n",
        "en_text: english text\n",
        "\n",
        "fr_text: french translation of english text"
      ]
    },
    {
      "cell_type": "code",
      "metadata": {
        "id": "REY4IAo7GvBw",
        "colab_type": "code",
        "colab": {
          "base_uri": "https://localhost:8080/",
          "height": 33
        },
        "outputId": "d971256d-2302-429f-8a03-75fec7230ee6"
      },
      "source": [
        "# load files\n",
        "en_text = tf.keras.utils.get_file(fname='vocab_en.txt', origin='https://assets.datacamp.com/production/repositories/4609/datasets/3459f954752fb2fce7c0b29e25f067e9784b69fb/vocab_en.txt')\n",
        "fr_text = tf.keras.utils.get_file(fname='vocab_fr.txt', origin='https://assets.datacamp.com/production/repositories/4609/datasets/644e461abb0910edb038e8b2c4ce7071b5aeca12/vocab_fr.txt')\n",
        "\n",
        "\n",
        "# english tokenizer\n",
        "en_tok = Tokenizer(num_words=50) #only consider num_words most comman words the other words will be considered as out-of-vocabulary (OOV)\n",
        "\n",
        "en_tok.fit_on_texts(en_text)\n",
        "\n",
        "# french tokenizer\n",
        "\n",
        "fr_tok = Tokenizer()\n",
        "\n",
        "fr_tok.fit_on_texts(fr_text)\n",
        "\n",
        "'''\n",
        "Tokenizer class as functions:\n",
        "index_word\n",
        "word_index\n",
        "texts_to_sequences: sentence is converted to a list of IDs\n",
        "'''"
      ],
      "execution_count": 11,
      "outputs": [
        {
          "output_type": "execute_result",
          "data": {
            "text/plain": [
              "'\\nTokenizer class as functions:\\nindex_word\\nword_index\\ntexts_to_sequences: sentence is converted to a list of IDs\\n'"
            ]
          },
          "metadata": {
            "tags": []
          },
          "execution_count": 11
        }
      ]
    },
    {
      "cell_type": "markdown",
      "metadata": {
        "id": "T1aIun5fL4oN",
        "colab_type": "text"
      },
      "source": [
        ""
      ]
    },
    {
      "cell_type": "code",
      "metadata": {
        "id": "v_Cy-xfvCtaC",
        "colab_type": "code",
        "colab": {}
      },
      "source": [
        "'''\n",
        "# Constants\n",
        "fr_vocab: size of the french vocabulary\n",
        "en_vocab: size of the english vocabulary\n",
        "hsize: size of the hidden state\n",
        "\n",
        "# Different layers\n",
        "en_inputs:encoder input layer\n",
        "en_out and en_state: encoder GRU output\n",
        "de_out decoder: GRU output\n",
        "de_pred decoder: prediction\n",
        "\n",
        "'''\n",
        "\n",
        "\n",
        "\n",
        "\n",
        "# Define the encoder\n",
        "en_inputs = Input(shape=(en_len, en_vocab))\n",
        "en_gru = GRU(hsize, return_state=True)\n",
        "en_out, en_state = en_gru(en_inputs)\n",
        "\n",
        "# Define the encoder model\n",
        "#encoder = Model(inputs=en_inputs, outputs=en_state)\n",
        "\n",
        "# Define the decoder\n",
        "de_inputs = RepeatVector(fr_len)(en_state)\n",
        "decoder_gru = GRU(hsize, return_sequences=True)\n",
        "de_dense = Dense(fr_vocab, activation='softmax')\n",
        "de_dense_time = TimeDistributed(de_dense)\n",
        "\n",
        "de_pred = de_dense_time(de_out)\n",
        "\n",
        "# Define the complete model\n",
        "nmt = Model(inputs=en_inputs, outputs=de_pred)\n",
        "\n",
        "# Compile the model\n",
        "nmt.compile(optimizer='adam', loss='categorical_crossentropy', metrics=['acc'])\n",
        "\n",
        "nmt.summary()"
      ],
      "execution_count": 0,
      "outputs": []
    }
  ]
}